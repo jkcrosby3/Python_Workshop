{
 "cells": [
  {
   "cell_type": "markdown",
   "metadata": {},
   "source": [
    "# Author- Tejasvi Sharma\n",
    "\n",
    "Graduate Student, Data Science\n",
    "George Washington University"
   ]
  },
  {
   "cell_type": "markdown",
   "metadata": {},
   "source": [
    "# Conditional"
   ]
  },
  {
   "cell_type": "markdown",
   "metadata": {},
   "source": [
    "Types Of Conditionals:-\n",
    "\n",
    "    1)if construct\n",
    "    \n",
    "    2)If else contruct\n",
    "    \n",
    "    3)if elif construct\n",
    "    \n",
    "    4)Nested if"
   ]
  },
  {
   "cell_type": "code",
   "execution_count": 2,
   "metadata": {},
   "outputs": [],
   "source": [
    "#Example of if construct\n",
    "#To check whether a number is even or not\n",
    "a=5\n",
    "if(a%2==0):\n",
    "    print(\"even\")\n",
    "    "
   ]
  },
  {
   "cell_type": "code",
   "execution_count": 3,
   "metadata": {},
   "outputs": [
    {
     "name": "stdout",
     "output_type": "stream",
     "text": [
      "odd\n"
     ]
    }
   ],
   "source": [
    "#example of if else\n",
    "a=5\n",
    "if(a%2==0):\n",
    "    print(\"even\")\n",
    "else:\n",
    "    print(\"odd\")"
   ]
  },
  {
   "cell_type": "code",
   "execution_count": 6,
   "metadata": {},
   "outputs": [
    {
     "name": "stdout",
     "output_type": "stream",
     "text": [
      "Fail\n"
     ]
    }
   ],
   "source": [
    "#example of if elif, explain the concept of and and or with if else construct\n",
    "a=23\n",
    "if(a>90 and a<=100):\n",
    "    print(\"Grade A\")\n",
    "elif(a>70 and a<=90):\n",
    "    print(\"Grade B\")\n",
    "elif(a>40 and a<=70):\n",
    "    print(\"Grade C\")\n",
    "else:\n",
    "    print(\"Fail\")\n",
    "    "
   ]
  },
  {
   "cell_type": "code",
   "execution_count": 7,
   "metadata": {},
   "outputs": [],
   "source": [
    "#questions to explain during the class"
   ]
  },
  {
   "cell_type": "markdown",
   "metadata": {},
   "source": [
    "Question 1:\n",
    "\n",
    "To find whether a year is leap year or not?"
   ]
  },
  {
   "cell_type": "code",
   "execution_count": 38,
   "metadata": {},
   "outputs": [
    {
     "name": "stdout",
     "output_type": "stream",
     "text": [
      "Not a Leap Year\n"
     ]
    }
   ],
   "source": [
    "#solution\n",
    "year=1994\n",
    "#year=1900\n",
    "#year=2008\n",
    "if(year%4==0):\n",
    "    if(year%100==0):\n",
    "        if(year%400==0):\n",
    "            print(\"Leap Year\")\n",
    "        else:\n",
    "            print(\"Not a Leap Year\")\n",
    "    else:\n",
    "        print(\"Leap Year\")\n",
    "else:\n",
    "    print(\"Not a Leap Year\")"
   ]
  },
  {
   "cell_type": "markdown",
   "metadata": {},
   "source": [
    "Question 2:\n",
    "    \n",
    "Write a program to find the minimum and maximum of three numbers? //Explain the minimum and maximum to two first"
   ]
  },
  {
   "cell_type": "code",
   "execution_count": 6,
   "metadata": {},
   "outputs": [
    {
     "name": "stdout",
     "output_type": "stream",
     "text": [
      "C is greater\n"
     ]
    }
   ],
   "source": [
    "#To do\n",
    "#solution \n",
    "#let three numbers be a,b,c\n",
    "a=10\n",
    "b=20\n",
    "c=50\n",
    "if(a>b and a>c):\n",
    "    print(\"A is greater\")\n",
    "elif(b>a and b>c):\n",
    "    print(\"B is greater\")\n",
    "else:\n",
    "    print(\"C is greater\")"
   ]
  },
  {
   "cell_type": "markdown",
   "metadata": {},
   "source": [
    "Question 3:\n",
    "\n",
    "Check whether a given charcter is numeric or alphabet? //Tell about ASCII values and ascii values of uppercase charcters, lowercase charaxters, numrerical values"
   ]
  },
  {
   "cell_type": "code",
   "execution_count": 9,
   "metadata": {},
   "outputs": [
    {
     "name": "stdout",
     "output_type": "stream",
     "text": [
      "Numeric\n"
     ]
    }
   ],
   "source": [
    "#solution\n",
    "data=3\n",
    "if(ord(str(data))>=48 and ord(str(data)) <=57):#ord to convert a character to ascii value\n",
    "    print(\"Numeric\")\n",
    "else:\n",
    "    print(\"Alphabet\")"
   ]
  },
  {
   "cell_type": "markdown",
   "metadata": {},
   "source": [
    "Question 4:\n",
    "\n",
    "Check whether a given alphabet is uppercase or lower case?"
   ]
  },
  {
   "cell_type": "code",
   "execution_count": 15,
   "metadata": {},
   "outputs": [
    {
     "name": "stdout",
     "output_type": "stream",
     "text": [
      "UpperCase\n"
     ]
    }
   ],
   "source": [
    "#To do\n",
    "#solution\n",
    "data=\"Z\"\n",
    "ascii_value=ord(str(data))\n",
    "if(ascii_value >=65 and ascii_value <=90):\n",
    "    print(\"UpperCase\")\n",
    "elif(ascii_value >=97 and ascii_value <=122):\n",
    "    print(\"LowerCase\")"
   ]
  },
  {
   "cell_type": "markdown",
   "metadata": {},
   "source": [
    "Question 5:\n",
    "\n",
    "Take input a week number and print week day?"
   ]
  },
  {
   "cell_type": "code",
   "execution_count": 31,
   "metadata": {},
   "outputs": [
    {
     "name": "stdout",
     "output_type": "stream",
     "text": [
      "Sunday\n",
      "Sunday\n"
     ]
    }
   ],
   "source": [
    "#solution\n",
    "#weeks starts from 1\n",
    "week_number=1\n",
    "if(week_number==1):\n",
    "    print(\"Sunday\")\n",
    "elif(week_number==2):\n",
    "    print(\"Monday\")\n",
    "elif(week_number==3):\n",
    "    print(\"Tuesday\")\n",
    "elif(week_number==4):\n",
    "    print(\"Wednesday\")\n",
    "elif(week_number==5):\n",
    "    print(\"Thrusday\")\n",
    "elif(week_number==6):\n",
    "    print(\"Friday\")\n",
    "elif(week_number==7):\n",
    "    print(\"Saturday\")\n",
    "else:\n",
    "    print(\"Invalid week number\")\n",
    "    \n",
    "    \n",
    "#other way to do it using a map\n",
    "week_map={1:\"Sunday\",2:\"Monday\",3:\"Tuesday\",4:\"Wednesday\",5:\"Thrusday\",6:\"Friday\",7:\"Saturday\"}\n",
    "try:\n",
    "    print(week_map[week_number])\n",
    "except:\n",
    "    print(\"Invalid week number\")\n"
   ]
  },
  {
   "cell_type": "markdown",
   "metadata": {},
   "source": [
    "Question 6:\n",
    "\n",
    "Take input a month number and print month name?"
   ]
  },
  {
   "cell_type": "code",
   "execution_count": 34,
   "metadata": {},
   "outputs": [
    {
     "name": "stdout",
     "output_type": "stream",
     "text": [
      "Aug\n"
     ]
    }
   ],
   "source": [
    "#To do\n",
    "#solution\n",
    "\n",
    "month_number=8\n",
    "if(month_number==1):\n",
    "    print(\"Jan\")\n",
    "elif(month_number==2):\n",
    "    print(\"Feb\")\n",
    "elif(month_number==3):\n",
    "    print(\"Mar\")\n",
    "elif(month_number==4):\n",
    "    print(\"Apr\")\n",
    "elif(month_number==5):\n",
    "    print(\"May\")\n",
    "elif(month_number==6):\n",
    "    print(\"June\")\n",
    "elif(month_number==7):\n",
    "    print(\"July\")\n",
    "elif(month_number==8):\n",
    "    print(\"Aug\")\n",
    "elif(month_number==9):\n",
    "    print(\"Sep\")\n",
    "elif(month_number==10):\n",
    "    print(\"Oct\")\n",
    "elif(month_number==11):\n",
    "    print(\"Nov\")\n",
    "elif(month_number==12):\n",
    "    print(\"Dec\")\n",
    "else:\n",
    "    print(\"Invalid month number\")"
   ]
  },
  {
   "cell_type": "markdown",
   "metadata": {},
   "source": [
    "Question 7:\n",
    "\n",
    "Given month, day and year, find out whether the date is valid or not?"
   ]
  },
  {
   "cell_type": "code",
   "execution_count": 42,
   "metadata": {},
   "outputs": [
    {
     "name": "stdout",
     "output_type": "stream",
     "text": [
      "Not a valid date\n"
     ]
    }
   ],
   "source": [
    "#To do\n",
    "#solution\n",
    "month=2\n",
    "day=31\n",
    "year=2008\n",
    "flag=0\n",
    "\n",
    "if(month==1):\n",
    "    if(day>=1 and day <=31):\n",
    "        flag=1\n",
    "elif(month==2):\n",
    "    if(year%4==0):\n",
    "        if(year%100==0):\n",
    "            if(year%400==0):\n",
    "                if(day>=1 and day<=29):\n",
    "                    flag=1\n",
    "            else:\n",
    "                if(day>=1 and day<=28):\n",
    "                    flag=1\n",
    "        else:\n",
    "             if(day>=1 and day<=29):\n",
    "                    flag=1\n",
    "    else:\n",
    "        if(day>=1 and day<=28):\n",
    "            flag=1\n",
    "elif(month==3):\n",
    "    if(day>=1 and day <=31):\n",
    "        flag=1\n",
    "elif(month==4):\n",
    "    if(day>=1 and day <=30):\n",
    "        flag=1\n",
    "elif(month==5):\n",
    "    if(day>=1 and day <=31):\n",
    "        flag=1\n",
    "elif(month==6):\n",
    "    if(day>=1 and day <=30):\n",
    "        flag=1\n",
    "elif(month==7):\n",
    "    if(day>=1 and day <=31):\n",
    "        flag=1\n",
    "elif(month==8):\n",
    "    if(day>=1 and day <=31):\n",
    "        flag=1\n",
    "elif(month==9):\n",
    "    if(day>=1 and day <=30):\n",
    "        flag=1\n",
    "elif(month==10):\n",
    "    if(day>=1 and day <=31):\n",
    "        flag=1\n",
    "elif(month==11):\n",
    "    if(day>=1 and day <=30):\n",
    "        flag=1\n",
    "elif(month==12):\n",
    "    if(day>=1 and day <=31):\n",
    "        flag=1\n",
    "        \n",
    "if(flag==0):\n",
    "    print(\"Not a valid date\")\n",
    "else:\n",
    "    print(\"Valid date\")"
   ]
  },
  {
   "cell_type": "markdown",
   "metadata": {},
   "source": [
    "Question 8:\n",
    "Write a program to input marks of five subjects Physics, Chemistry, Biology, Mathematics and Computer. Calculate percentage and grade according to following:\n",
    "\n",
    "\n",
    "Percentage >= 90% : Grade A\n",
    "\n",
    "Percentage >= 80% : Grade B\n",
    "\n",
    "Percentage >= 70% : Grade C\n",
    "\n",
    "Percentage >= 60% : Grade D\n",
    "\n",
    "Percentage >= 40% : Grade E\n",
    "\n",
    "Percentage < 40% : Grade F"
   ]
  },
  {
   "cell_type": "code",
   "execution_count": 44,
   "metadata": {},
   "outputs": [
    {
     "name": "stdout",
     "output_type": "stream",
     "text": [
      "Grade C\n"
     ]
    }
   ],
   "source": [
    "#To do\n",
    "#solution\n",
    "percentage=75\n",
    "if(percentage>=90):\n",
    "    print(\"Grade A\")\n",
    "elif(percentage>=80):\n",
    "    print(\"Grade B\")\n",
    "elif(percentage>=70):\n",
    "    print(\"Grade C\")\n",
    "elif(percentage>=60):\n",
    "    print(\"Grade D\")\n",
    "elif(percentage>=40):\n",
    "    print(\"Grade E\")\n",
    "else:\n",
    "    print(\"Grade F\")"
   ]
  },
  {
   "cell_type": "markdown",
   "metadata": {},
   "source": [
    "Question 9:\n",
    "\n",
    "Write a C program to input basic salary of an employee and calculate its Gross salary according to following:\n",
    "HRA- House rent allowence\n",
    "\n",
    "DA- Dearness allowence\n",
    "\n",
    "Basic Salary <= 10000 : HRA = 20%, DA = 80%\n",
    "\n",
    "Basic Salary <= 20000 : HRA = 25%, DA = 90%\n",
    "\n",
    "Basic Salary > 20000 : HRA = 30%, DA = 95%\n"
   ]
  },
  {
   "cell_type": "code",
   "execution_count": 1,
   "metadata": {},
   "outputs": [
    {
     "name": "stdout",
     "output_type": "stream",
     "text": [
      "25800.0\n"
     ]
    }
   ],
   "source": [
    "#To do\n",
    "#solution\n",
    "Basic_salary=12000\n",
    "if(Basic_salary<=10000):\n",
    "    Gross_salary=Basic_salary*(1+0.2+0.8)\n",
    "elif(Basic_salary<=20000):\n",
    "    Gross_salary=Basic_salary*(1+0.25+0.9)\n",
    "else:\n",
    "    Gross_salary=Basic_salary*(1+0.3+0.95)\n",
    "    \n",
    "print(Gross_salary)\n",
    "    "
   ]
  },
  {
   "cell_type": "code",
   "execution_count": null,
   "metadata": {},
   "outputs": [],
   "source": []
  }
 ],
 "metadata": {
  "kernelspec": {
   "display_name": "Python 3",
   "language": "python",
   "name": "python3"
  },
  "language_info": {
   "codemirror_mode": {
    "name": "ipython",
    "version": 3
   },
   "file_extension": ".py",
   "mimetype": "text/x-python",
   "name": "python",
   "nbconvert_exporter": "python",
   "pygments_lexer": "ipython3",
   "version": "3.6.4"
  }
 },
 "nbformat": 4,
 "nbformat_minor": 2
}
