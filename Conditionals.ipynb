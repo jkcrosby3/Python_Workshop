{
 "cells": [
  {
   "cell_type": "markdown",
   "metadata": {},
   "source": [
    "# Author- Tejasvi Sharma\n",
    "\n",
    "Graduate Student, Data Science\n",
    "George Washington University"
   ]
  },
  {
   "cell_type": "markdown",
   "metadata": {},
   "source": [
    "# Conditional"
   ]
  },
  {
   "cell_type": "markdown",
   "metadata": {},
   "source": [
    "Types Of Conditionals:-\n",
    "\n",
    "    1)if construct\n",
    "    \n",
    "    2)If else contruct\n",
    "    \n",
    "    3)if elif construct\n",
    "    \n",
    "    4)Nested if"
   ]
  },
  {
   "cell_type": "code",
   "execution_count": 2,
   "metadata": {},
   "outputs": [],
   "source": [
    "#Example of if construct\n",
    "#To check whether a number is even or not\n",
    "a=5\n",
    "if(a%2==0):\n",
    "    print(\"even\")\n",
    "    "
   ]
  },
  {
   "cell_type": "code",
   "execution_count": 3,
   "metadata": {},
   "outputs": [
    {
     "name": "stdout",
     "output_type": "stream",
     "text": [
      "odd\n"
     ]
    }
   ],
   "source": [
    "#example of if else\n",
    "a=5\n",
    "if(a%2==0):\n",
    "    print(\"even\")\n",
    "else:\n",
    "    print(\"odd\")"
   ]
  },
  {
   "cell_type": "code",
   "execution_count": 6,
   "metadata": {},
   "outputs": [
    {
     "name": "stdout",
     "output_type": "stream",
     "text": [
      "Fail\n"
     ]
    }
   ],
   "source": [
    "#example of if elif, explain the concept of and and or with if else construct\n",
    "a=23\n",
    "if(a>90 and a<=100):\n",
    "    print(\"Grade A\")\n",
    "elif(a>70 and a<=90):\n",
    "    print(\"Grade B\")\n",
    "elif(a>40 and a<=70):\n",
    "    print(\"Grade C\")\n",
    "else:\n",
    "    print(\"Fail\")\n",
    "    "
   ]
  },
  {
   "cell_type": "code",
   "execution_count": 7,
   "metadata": {},
   "outputs": [],
   "source": [
    "#questions to explain during the class"
   ]
  },
  {
   "cell_type": "markdown",
   "metadata": {},
   "source": [
    "Question 1:\n",
    "\n",
    "To find whether a year is leap year or not?\n",
    "\n",
    "Example:\n",
    "\n",
    "    Input: 2008\n",
    "    \n",
    "    Output: Leap Year\n",
    "    \n",
    "Example:\n",
    "\n",
    "    Input: 1900\n",
    "    \n",
    "    Output: Not a Leap Year"
   ]
  },
  {
   "cell_type": "code",
   "execution_count": 10,
   "metadata": {},
   "outputs": [],
   "source": [
    "#solution"
   ]
  },
  {
   "cell_type": "markdown",
   "metadata": {},
   "source": [
    "Question 2:\n",
    "    \n",
    "Write a program to find the minimum and maximum of three numbers? //Explain the minimum and maximum to two first\n",
    "\n",
    "Example:\n",
    "\n",
    "    Input: Three numbers 8,12,7\n",
    "    \n",
    "    Output: Max=12\n",
    "            Min=7"
   ]
  },
  {
   "cell_type": "code",
   "execution_count": 12,
   "metadata": {},
   "outputs": [],
   "source": [
    "#To do #Explain ASCII values\n",
    "#solution "
   ]
  },
  {
   "cell_type": "markdown",
   "metadata": {},
   "source": [
    "Question 3:\n",
    "\n",
    "Check whether a given charcter is numeric or alphabet?\n",
    "\n",
    "Example:\n",
    "    \n",
    "    Input: a\n",
    "    \n",
    "    Output: Alphabet\n",
    "\n",
    "Example:\n",
    "    \n",
    "    Input: 9\n",
    "    \n",
    "    Output: Numeric"
   ]
  },
  {
   "cell_type": "code",
   "execution_count": null,
   "metadata": {},
   "outputs": [],
   "source": [
    "#solution"
   ]
  },
  {
   "cell_type": "markdown",
   "metadata": {},
   "source": [
    "Question 4:\n",
    "\n",
    "Check whether a given alphabet is uppercase or lower case?\n",
    "\n",
    "Example:\n",
    "    \n",
    "    Input: a\n",
    "    \n",
    "    Output: Lower Case\n",
    "\n",
    "Example:\n",
    "    \n",
    "    Input: A\n",
    "    \n",
    "    Output: Upper Case"
   ]
  },
  {
   "cell_type": "code",
   "execution_count": null,
   "metadata": {},
   "outputs": [],
   "source": [
    "#To do\n",
    "#solution"
   ]
  },
  {
   "cell_type": "markdown",
   "metadata": {},
   "source": [
    "Question 5:\n",
    "\n",
    "Take input a week number and print week day?\n",
    "\n",
    "Example:\n",
    "\n",
    "    Input: 5\n",
    "    \n",
    "    Output: Thrusday"
   ]
  },
  {
   "cell_type": "code",
   "execution_count": null,
   "metadata": {},
   "outputs": [],
   "source": [
    "#solution"
   ]
  },
  {
   "cell_type": "markdown",
   "metadata": {},
   "source": [
    "Question 6:\n",
    "\n",
    "Take input a month number and print month name?\n",
    "\n",
    "Example:\n",
    "\n",
    "    Input: 5\n",
    "    \n",
    "    Output: May"
   ]
  },
  {
   "cell_type": "code",
   "execution_count": 14,
   "metadata": {},
   "outputs": [],
   "source": [
    "#To do\n",
    "#solution"
   ]
  },
  {
   "cell_type": "markdown",
   "metadata": {},
   "source": [
    "Question 7:\n",
    "\n",
    "Given month, day and year, find out whether the date is valid or not?\n",
    "\n",
    "Example:\n",
    "    \n",
    "    Input: month=13\n",
    "           year= 2008\n",
    "           day=21\n",
    "           \n",
    "    Output: Invalid Date"
   ]
  },
  {
   "cell_type": "code",
   "execution_count": null,
   "metadata": {},
   "outputs": [],
   "source": [
    "#To do\n",
    "#solution"
   ]
  },
  {
   "cell_type": "markdown",
   "metadata": {},
   "source": [
    "Question 8:\n",
    "\n",
    "Write a C program to input basic salary of an employee and calculate its Gross salary according to following:\n",
    "HRA- House rent allowence\n",
    "\n",
    "DA- Dearness allowence\n",
    "\n",
    "Basic Salary <= 10000 : HRA = 20%, DA = 80%\n",
    "\n",
    "Basic Salary <= 20000 : HRA = 25%, DA = 90%\n",
    "\n",
    "Basic Salary > 20000 : HRA = 30%, DA = 95%\n"
   ]
  },
  {
   "cell_type": "code",
   "execution_count": 4,
   "metadata": {},
   "outputs": [],
   "source": [
    "#To do\n",
    "#solution"
   ]
  },
  {
   "cell_type": "code",
   "execution_count": null,
   "metadata": {},
   "outputs": [],
   "source": []
  }
 ],
 "metadata": {
  "kernelspec": {
   "display_name": "Python 3",
   "language": "python",
   "name": "python3"
  },
  "language_info": {
   "codemirror_mode": {
    "name": "ipython",
    "version": 3
   },
   "file_extension": ".py",
   "mimetype": "text/x-python",
   "name": "python",
   "nbconvert_exporter": "python",
   "pygments_lexer": "ipython3",
   "version": "3.5.2"
  }
 },
 "nbformat": 4,
 "nbformat_minor": 2
}
