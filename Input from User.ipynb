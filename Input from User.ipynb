{
 "cells": [
  {
   "cell_type": "markdown",
   "metadata": {},
   "source": [
    "# Author - Tejasvi Sharma"
   ]
  },
  {
   "cell_type": "code",
   "execution_count": null,
   "metadata": {},
   "outputs": [],
   "source": [
    "#Taking input from user"
   ]
  },
  {
   "cell_type": "code",
   "execution_count": null,
   "metadata": {},
   "outputs": [],
   "source": [
    "inp=input(\"Enter a String\") # all the inputs are in string\n",
    "print(inp)"
   ]
  },
  {
   "cell_type": "code",
   "execution_count": null,
   "metadata": {},
   "outputs": [],
   "source": [
    "#type conversion"
   ]
  },
  {
   "cell_type": "code",
   "execution_count": 1,
   "metadata": {},
   "outputs": [
    {
     "name": "stdout",
     "output_type": "stream",
     "text": [
      "Enter a number5\n",
      "Result=  6\n"
     ]
    }
   ],
   "source": [
    "#To convert a string to int after input\n",
    "inp=int(input(\"Enter a number\"))\n",
    "print(\"Result= \",inp+1)"
   ]
  },
  {
   "cell_type": "code",
   "execution_count": 3,
   "metadata": {},
   "outputs": [
    {
     "name": "stdout",
     "output_type": "stream",
     "text": [
      "Enter a number5\n",
      "Result=  6.0\n"
     ]
    }
   ],
   "source": [
    "#In similar manner we can convert to float\n",
    "inp=float(input(\"Enter a number\"))\n",
    "print(\"Result= \",inp+1)"
   ]
  },
  {
   "cell_type": "code",
   "execution_count": 5,
   "metadata": {},
   "outputs": [
    {
     "name": "stdout",
     "output_type": "stream",
     "text": [
      "<class 'int'> 5\n",
      "<class 'str'> 5\n"
     ]
    }
   ],
   "source": [
    "#Conversion to string\n",
    "#use function str\n",
    "b=5\n",
    "print(type(b),b)\n",
    "a=str(b)\n",
    "print(type(a),a)"
   ]
  },
  {
   "cell_type": "code",
   "execution_count": 10,
   "metadata": {},
   "outputs": [
    {
     "name": "stdout",
     "output_type": "stream",
     "text": [
      "Enter the number of items in list2\n",
      "Enter 0th value5\n",
      "Enter 1th value5\n",
      "Input List=  [5, 5]\n"
     ]
    }
   ],
   "source": [
    "#Taking input in a list\n",
    "#Get the number of items in a list\n",
    "#Run a loop and append items to a list\n",
    "#declare an empty list\n",
    "li=[]\n",
    "length=int(input(\"Enter the number of items in list\"))\n",
    "for i in range(0,length):\n",
    "    inp=input(\"Enter \"+str(i)+\"th value\")\n",
    "    li.append(int(inp))\n",
    "print(\"Input List= \",li)"
   ]
  },
  {
   "cell_type": "code",
   "execution_count": 8,
   "metadata": {},
   "outputs": [
    {
     "data": {
      "text/plain": [
       "[1, 2]"
      ]
     },
     "execution_count": 8,
     "metadata": {},
     "output_type": "execute_result"
    }
   ],
   "source": [
    "li"
   ]
  },
  {
   "cell_type": "code",
   "execution_count": null,
   "metadata": {},
   "outputs": [],
   "source": []
  }
 ],
 "metadata": {
  "kernelspec": {
   "display_name": "Python 3",
   "language": "python",
   "name": "python3"
  },
  "language_info": {
   "codemirror_mode": {
    "name": "ipython",
    "version": 3
   },
   "file_extension": ".py",
   "mimetype": "text/x-python",
   "name": "python",
   "nbconvert_exporter": "python",
   "pygments_lexer": "ipython3",
   "version": "3.5.2"
  }
 },
 "nbformat": 4,
 "nbformat_minor": 2
}
