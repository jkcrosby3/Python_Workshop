{
 "cells": [
  {
   "cell_type": "markdown",
   "metadata": {},
   "source": [
    "# Author - Tejasvi Sharma\n",
    "Data Science Student, George Washington University"
   ]
  },
  {
   "cell_type": "markdown",
   "metadata": {},
   "source": [
    "Loop Types:\n",
    "\n",
    "    1)For Loop\n",
    "\n",
    "    2)While Loop\n",
    "\n",
    "    3)Nested Loop"
   ]
  },
  {
   "cell_type": "code",
   "execution_count": 4,
   "metadata": {},
   "outputs": [
    {
     "name": "stdout",
     "output_type": "stream",
     "text": [
      "1\n",
      "2\n",
      "3\n",
      "4\n",
      "5\n",
      "6\n",
      "7\n",
      "8\n",
      "9\n",
      "10\n"
     ]
    }
   ],
   "source": [
    "#For LOOP\n",
    "for i in range(1,11):# range goes till one value less than the second argument\n",
    "    print(i)"
   ]
  },
  {
   "cell_type": "code",
   "execution_count": 5,
   "metadata": {},
   "outputs": [
    {
     "name": "stdout",
     "output_type": "stream",
     "text": [
      "1\n",
      "2\n",
      "3\n",
      "4\n",
      "5\n",
      "6\n",
      "7\n",
      "8\n",
      "9\n",
      "10\n"
     ]
    }
   ],
   "source": [
    "#while loop\n",
    "i=1\n",
    "while(i<=10):#condition\n",
    "    print(i)\n",
    "    i=i+1 #increment"
   ]
  },
  {
   "cell_type": "code",
   "execution_count": 6,
   "metadata": {},
   "outputs": [
    {
     "name": "stdout",
     "output_type": "stream",
     "text": [
      "1\n",
      "2\n",
      "2\n",
      "4\n"
     ]
    }
   ],
   "source": [
    "#Nested Loop, loop inside loop\n",
    "for i in range(1,3):\n",
    "    for j in range(1,3):\n",
    "        print(i*j)\n",
    "        "
   ]
  },
  {
   "cell_type": "markdown",
   "metadata": {},
   "source": [
    "Question 1: Find out the sum of range of numbers using both for and while loop. Range(1-100)"
   ]
  },
  {
   "cell_type": "code",
   "execution_count": 24,
   "metadata": {},
   "outputs": [
    {
     "name": "stdout",
     "output_type": "stream",
     "text": [
      "Sum using for loop  5050\n",
      "Sum using while loop  5050\n"
     ]
    }
   ],
   "source": [
    "#Solution\n",
    "#For loop\n",
    "sum=0\n",
    "for i in range(1,101):\n",
    "    sum=sum+i\n",
    "\n",
    "print(\"Sum using for loop \",sum)\n",
    "\n",
    "#while loop\n",
    "s=0\n",
    "i=1\n",
    "while(i<=100):\n",
    "    s=s+i\n",
    "    i=i+1\n",
    "        \n",
    "print(\"Sum using while loop \",s)\n"
   ]
  },
  {
   "cell_type": "markdown",
   "metadata": {},
   "source": [
    "Question 2: Find out the factorial of a number using for and while loop."
   ]
  },
  {
   "cell_type": "code",
   "execution_count": 25,
   "metadata": {},
   "outputs": [
    {
     "name": "stdout",
     "output_type": "stream",
     "text": [
      "Factorial= 120\n"
     ]
    }
   ],
   "source": [
    "#To do\n",
    "#Solution\n",
    "#For Loop\n",
    "fact=1 \n",
    "num=5\n",
    "for i in range(1,num+1):\n",
    "    fact=fact*i\n",
    "\n",
    "print(\"Factorial=\",fact)\n",
    "#implement While loop"
   ]
  },
  {
   "cell_type": "markdown",
   "metadata": {},
   "source": [
    "Question 3: Find out whether a number is a prime number or not."
   ]
  },
  {
   "cell_type": "code",
   "execution_count": 23,
   "metadata": {},
   "outputs": [
    {
     "name": "stdout",
     "output_type": "stream",
     "text": [
      "Prime Number\n",
      "Prime Number\n"
     ]
    }
   ],
   "source": [
    "#Prime number is divisible by itself and 1, so it has 2 factors\n",
    "\n",
    "#Counting factors to determine whether prime or not\n",
    "number=13\n",
    "count=0\n",
    "for i in range(1, number+1):\n",
    "    if(number%i==0):\n",
    "        count=count+1\n",
    "        \n",
    "if(count==2):\n",
    "    print(\"Prime Number\")\n",
    "else:\n",
    "    print(\"Not a Prime Number\")\n",
    "    \n",
    "#Another Way to do it\n",
    "import math\n",
    "count=0\n",
    "for i in range(2,math.ceil(math.sqrt(number))): #loop with square root of number\n",
    "    if(number%i==0):\n",
    "        count=count+1\n",
    "if(count==0):\n",
    "    print(\"Prime Number\")\n",
    "else:\n",
    "    print(\"Not a Prime Number\")"
   ]
  },
  {
   "cell_type": "markdown",
   "metadata": {},
   "source": [
    "Question 4: Find the sum on numbers in a list."
   ]
  },
  {
   "cell_type": "code",
   "execution_count": 27,
   "metadata": {},
   "outputs": [
    {
     "name": "stdout",
     "output_type": "stream",
     "text": [
      "Sum of list= 55\n"
     ]
    }
   ],
   "source": [
    "#To do\n",
    "#Using For loop\n",
    "li=[1,2,3,4,5,6,7,8,9,10]\n",
    "s=0\n",
    "for i in li:\n",
    "    s=s+i\n",
    "print(\"Sum of list=\",s)\n",
    "\n",
    "#Another way to parse a list using index\n",
    "#for i in range(0,len(li)):\n",
    "    #print(li[i])"
   ]
  },
  {
   "cell_type": "markdown",
   "metadata": {},
   "source": [
    "Question 5: Print patterns\n",
    "\n",
    "5.a)                            \n",
    "    \n",
    "    *\n",
    "    **\n",
    "    ***\n",
    "    ****\n",
    "    *****\n",
    "\n",
    "5.b)\n",
    "\n",
    "    1    \n",
    "    12\n",
    "    123\n",
    "    1234 \n",
    "    12345"
   ]
  },
  {
   "cell_type": "code",
   "execution_count": 44,
   "metadata": {},
   "outputs": [
    {
     "name": "stdout",
     "output_type": "stream",
     "text": [
      "Pattern 1\n",
      "\n",
      "*\n",
      "**\n",
      "***\n",
      "****\n",
      "*****\n",
      "\n",
      "Pattern 2\n",
      "\n",
      "1\n",
      "12\n",
      "123\n",
      "1234\n",
      "12345\n"
     ]
    }
   ],
   "source": [
    "#Solution\n",
    "#Pattern 1\n",
    "print(\"Pattern 1\\n\")\n",
    "for i in range(1,6):\n",
    "    for j in range(1,i+1):\n",
    "        print(\"*\",end='')\n",
    "    print('')\n",
    "\n",
    "\n",
    "#pattern 2\n",
    "\n",
    "print(\"\\nPattern 2\\n\")\n",
    "for i in range(1,6):\n",
    "    for j in range(1,i+1):\n",
    "        print(j,end='')\n",
    "    print('')"
   ]
  },
  {
   "cell_type": "markdown",
   "metadata": {},
   "source": [
    "Question 6: Print Patterns\n",
    "\n",
    "6.a)\n",
    "    \n",
    "    1\n",
    "    23\n",
    "    456\n",
    "    78910\n",
    "    \n",
    "6.b) \n",
    "\n",
    "    *****\n",
    "    ****\n",
    "    ***\n",
    "    **\n",
    "    *"
   ]
  },
  {
   "cell_type": "code",
   "execution_count": 51,
   "metadata": {},
   "outputs": [
    {
     "name": "stdout",
     "output_type": "stream",
     "text": [
      "Pattern 1\n",
      "1\n",
      "23\n",
      "456\n",
      "78910\n",
      "\n",
      "Pattern 2\n",
      "\n",
      "*****\n",
      "****\n",
      "***\n",
      "**\n",
      "*\n"
     ]
    }
   ],
   "source": [
    "#To do\n",
    "#Solution 6.a\n",
    "print(\"Pattern 1\")\n",
    "i=1\n",
    "for j in range(1,5):\n",
    "    for k in range(1,j+1):\n",
    "        print(i,end='')\n",
    "        i=i+1\n",
    "    print()\n",
    "\n",
    "#solution 6.b\n",
    "print(\"\\nPattern 2\\n\")\n",
    "\n",
    "for j in range(6,1,-1):\n",
    "    for k in range(1,j):\n",
    "        print(\"*\",end='')\n",
    "    print()"
   ]
  },
  {
   "cell_type": "markdown",
   "metadata": {},
   "source": [
    "Question 7: Print sum of digits in a number."
   ]
  },
  {
   "cell_type": "code",
   "execution_count": 53,
   "metadata": {},
   "outputs": [
    {
     "name": "stdout",
     "output_type": "stream",
     "text": [
      "Sum digits= 19\n"
     ]
    }
   ],
   "source": [
    "#Solution\n",
    "\n",
    "number=18451\n",
    "s=0\n",
    "while(number!=0):\n",
    "    s=s+number%10\n",
    "    number=number//10\n",
    "print(\"Sum digits=\",s)"
   ]
  },
  {
   "cell_type": "markdown",
   "metadata": {},
   "source": [
    "Question 8: Given a list of numbers find out how many are even numbers"
   ]
  },
  {
   "cell_type": "code",
   "execution_count": 61,
   "metadata": {},
   "outputs": [
    {
     "name": "stdout",
     "output_type": "stream",
     "text": [
      "Count of even numbers= 4\n"
     ]
    },
    {
     "data": {
      "text/plain": [
       "4"
      ]
     },
     "execution_count": 61,
     "metadata": {},
     "output_type": "execute_result"
    }
   ],
   "source": [
    "#To do\n",
    "#Solution\n",
    "li=[20,30,23,40,12,83,93]\n",
    "count=0\n",
    "for i in li:\n",
    "    if(i%2==0):\n",
    "        count=count+1\n",
    "        \n",
    "print(\"Count of even numbers=\",count)\n",
    "#Shortcut to do the same thing in python\n",
    "len(list(filter(lambda x:x%2==0,li)))"
   ]
  },
  {
   "cell_type": "markdown",
   "metadata": {},
   "source": [
    "Question 9: Reverse a given number.\n"
   ]
  },
  {
   "cell_type": "code",
   "execution_count": 63,
   "metadata": {},
   "outputs": [
    {
     "name": "stdout",
     "output_type": "stream",
     "text": [
      "Reverse number= 15481\n"
     ]
    }
   ],
   "source": [
    "#To do\n",
    "#Solution\n",
    "number=18451\n",
    "rev=0\n",
    "while(number!=0):\n",
    "    rev=rev*10+number%10\n",
    "    number=number//10\n",
    "print(\"Reverse number=\",rev)"
   ]
  },
  {
   "cell_type": "markdown",
   "metadata": {},
   "source": [
    "Question 10: Find the sum of reverse of numbers in a list"
   ]
  },
  {
   "cell_type": "code",
   "execution_count": 77,
   "metadata": {},
   "outputs": [
    {
     "name": "stdout",
     "output_type": "stream",
     "text": [
      "Sum = 33\n"
     ]
    }
   ],
   "source": [
    "#To do\n",
    "#Solution\n",
    "li=[10,23]\n",
    "s=0 #for sum\n",
    "for i in li:\n",
    "    rev=0\n",
    "    while(i!=0):\n",
    "        rev=rev*10+i%10\n",
    "        i=i//10\n",
    "    s=s+rev\n",
    "\n",
    "print(\"Sum =\",s)"
   ]
  },
  {
   "cell_type": "markdown",
   "metadata": {},
   "source": [
    "Question 11: Print contents of a list in reverse."
   ]
  },
  {
   "cell_type": "code",
   "execution_count": 71,
   "metadata": {},
   "outputs": [
    {
     "name": "stdout",
     "output_type": "stream",
     "text": [
      "5\n",
      "4\n",
      "3\n",
      "2\n",
      "1\n"
     ]
    }
   ],
   "source": [
    "#To do\n",
    "#Solution\n",
    "li=[1,2,3,4,5]\n",
    "for i in range(len(li)-1,-1,-1):\n",
    "    print(li[i])"
   ]
  },
  {
   "cell_type": "markdown",
   "metadata": {},
   "source": [
    "# Loop control statements"
   ]
  },
  {
   "cell_type": "code",
   "execution_count": null,
   "metadata": {},
   "outputs": [],
   "source": [
    "#explain break statements, pass statements, continue statements\n",
    "#Give examples\n"
   ]
  },
  {
   "cell_type": "markdown",
   "metadata": {},
   "source": [
    "Question 12: Write a program to find whether a number is prime or not using break."
   ]
  },
  {
   "cell_type": "code",
   "execution_count": 79,
   "metadata": {},
   "outputs": [
    {
     "name": "stdout",
     "output_type": "stream",
     "text": [
      "Prime Number\n"
     ]
    }
   ],
   "source": [
    "#Solution\n",
    "#Example of Break\n",
    "number=13\n",
    "count=0\n",
    "\n",
    "for i in range(1,number+1):\n",
    "    if(number%i==0):\n",
    "        count=count+1\n",
    "    if(count>2):\n",
    "        break\n",
    "\n",
    "if(count==2):\n",
    "    print(\"Prime Number\")\n",
    "else:\n",
    "    print(\"Not a Prime Number\")"
   ]
  },
  {
   "cell_type": "markdown",
   "metadata": {},
   "source": [
    "Question 13: Write a program to find sum of even numbers in a list."
   ]
  },
  {
   "cell_type": "code",
   "execution_count": 84,
   "metadata": {},
   "outputs": [
    {
     "name": "stdout",
     "output_type": "stream",
     "text": [
      "Sum =  154\n"
     ]
    }
   ],
   "source": [
    "#Solution\n",
    "\n",
    "li=[34,45,12,34,74,33,21]\n",
    "s=0 # sum of even numbers \n",
    "for i in li:\n",
    "    if(i%2!=0):\n",
    "        continue\n",
    "    s=s+i\n",
    "\n",
    "print(\"Sum = \",s)"
   ]
  },
  {
   "cell_type": "markdown",
   "metadata": {},
   "source": [
    "Question 14: Write a program to find hcf of two numbers."
   ]
  },
  {
   "cell_type": "code",
   "execution_count": 86,
   "metadata": {},
   "outputs": [
    {
     "name": "stdout",
     "output_type": "stream",
     "text": [
      "HCF =  10\n"
     ]
    }
   ],
   "source": [
    "#To do\n",
    "#Solution\n",
    "first_num=20\n",
    "second_num=30\n",
    "\n",
    "for i in range(1,min(first_num,second_num)+1):\n",
    "    if(first_num%i==0 and second_num%i==0):\n",
    "        hcf=i\n",
    "    else:\n",
    "        pass\n",
    "print(\"HCF = \",hcf)"
   ]
  },
  {
   "cell_type": "markdown",
   "metadata": {},
   "source": [
    "Question 15: Write a program to parse a matrix element by element."
   ]
  },
  {
   "cell_type": "code",
   "execution_count": 87,
   "metadata": {},
   "outputs": [
    {
     "name": "stdout",
     "output_type": "stream",
     "text": [
      "1 2 4 \n",
      "4 5 6 \n",
      "7 8 9 \n"
     ]
    }
   ],
   "source": [
    "#Matrix is a list of list\n",
    "li=[[1,2,4],[4,5,6],[7,8,9]]\n",
    "\n",
    "for i in li:\n",
    "    for j in i:\n",
    "        print(str(j)+\" \",end='')\n",
    "    print()"
   ]
  },
  {
   "cell_type": "markdown",
   "metadata": {},
   "source": [
    "Question 16: Print Pattern.\n",
    "    \n",
    "    1\n",
    "    11\n",
    "    121\n",
    "    1331\n",
    "    14641\n",
    "    \n"
   ]
  },
  {
   "cell_type": "code",
   "execution_count": 1,
   "metadata": {},
   "outputs": [
    {
     "name": "stdout",
     "output_type": "stream",
     "text": [
      "1\n",
      "11\n",
      "121\n",
      "1331\n",
      "14641\n"
     ]
    }
   ],
   "source": [
    "#To do\n",
    "import math\n",
    "for i in range(0,5):\n",
    "    print(int(math.pow(11,i)))\n",
    "    "
   ]
  },
  {
   "cell_type": "code",
   "execution_count": null,
   "metadata": {},
   "outputs": [],
   "source": []
  }
 ],
 "metadata": {
  "kernelspec": {
   "display_name": "Python 3",
   "language": "python",
   "name": "python3"
  },
  "language_info": {
   "codemirror_mode": {
    "name": "ipython",
    "version": 3
   },
   "file_extension": ".py",
   "mimetype": "text/x-python",
   "name": "python",
   "nbconvert_exporter": "python",
   "pygments_lexer": "ipython3",
   "version": "3.6.4"
  }
 },
 "nbformat": 4,
 "nbformat_minor": 2
}
