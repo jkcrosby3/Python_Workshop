{
 "cells": [
  {
   "cell_type": "markdown",
   "metadata": {},
   "source": [
    "# Author - Tejasvi Sharma\n",
    "Data Science Student, George Washington University"
   ]
  },
  {
   "cell_type": "markdown",
   "metadata": {},
   "source": [
    "Loop Types:\n",
    "\n",
    "    1)For Loop\n",
    "\n",
    "    2)While Loop\n",
    "\n",
    "    3)Nested Loop"
   ]
  },
  {
   "cell_type": "code",
   "execution_count": 4,
   "metadata": {},
   "outputs": [
    {
     "name": "stdout",
     "output_type": "stream",
     "text": [
      "1\n",
      "2\n",
      "3\n",
      "4\n",
      "5\n",
      "6\n",
      "7\n",
      "8\n",
      "9\n",
      "10\n"
     ]
    }
   ],
   "source": [
    "#For LOOP\n",
    "for i in range(1,11):# range goes till one value less than the second argument\n",
    "    print(i)"
   ]
  },
  {
   "cell_type": "code",
   "execution_count": 5,
   "metadata": {},
   "outputs": [
    {
     "name": "stdout",
     "output_type": "stream",
     "text": [
      "1\n",
      "2\n",
      "3\n",
      "4\n",
      "5\n",
      "6\n",
      "7\n",
      "8\n",
      "9\n",
      "10\n"
     ]
    }
   ],
   "source": [
    "#while loop\n",
    "i=1\n",
    "while(i<=10):#condition\n",
    "    print(i)\n",
    "    i=i+1 #increment"
   ]
  },
  {
   "cell_type": "code",
   "execution_count": 6,
   "metadata": {},
   "outputs": [
    {
     "name": "stdout",
     "output_type": "stream",
     "text": [
      "1\n",
      "2\n",
      "2\n",
      "4\n"
     ]
    }
   ],
   "source": [
    "#Nested Loop, loop inside loop\n",
    "for i in range(1,3):\n",
    "    for j in range(1,3):\n",
    "        print(i*j)\n",
    "        "
   ]
  },
  {
   "cell_type": "markdown",
   "metadata": {},
   "source": [
    "Question 1: Find out the sum of range of numbers using both for and while loop. Range(1-100)"
   ]
  },
  {
   "cell_type": "code",
   "execution_count": 1,
   "metadata": {},
   "outputs": [],
   "source": [
    "#Solution\n",
    "#For loop\n"
   ]
  },
  {
   "cell_type": "markdown",
   "metadata": {},
   "source": [
    "Question 2: Find out the factorial of a number using for and while loop.\n",
    "\n",
    "Example:-\n",
    "\n",
    "    Input: 4\n",
    "    \n",
    "    Output:\n",
    "    \n",
    "    Factorial =24 (Factorial =4*3*2*1)"
   ]
  },
  {
   "cell_type": "code",
   "execution_count": 1,
   "metadata": {},
   "outputs": [],
   "source": [
    "#To do\n",
    "#Solution\n",
    "#For Loop\n",
    "\n",
    "#implement While loop"
   ]
  },
  {
   "cell_type": "markdown",
   "metadata": {},
   "source": [
    "Question 3: Find out whether a number is a prime number or not.\n",
    "\n",
    "Example 1:-\n",
    "\n",
    "    Input:- 4\n",
    "    \n",
    "    Output:\n",
    "    \n",
    "    Not aPrime Number\n",
    "\n",
    "Example 2:-\n",
    "\n",
    "    Input:- 3\n",
    "    \n",
    "    Output:\n",
    "    \n",
    "    Prime Number\n",
    "    "
   ]
  },
  {
   "cell_type": "code",
   "execution_count": 2,
   "metadata": {},
   "outputs": [],
   "source": [
    "#Prime number is divisible by itself and 1, so it has 2 factors\n",
    "\n",
    "#Counting factors to determine whether prime or not\n"
   ]
  },
  {
   "cell_type": "markdown",
   "metadata": {},
   "source": [
    "Question 4: Find the sum on numbers in a list.\n",
    "\n",
    "Example:-\n",
    "    \n",
    "    Input list- [1,2,3,4]\n",
    "    \n",
    "    Output:\n",
    "    \n",
    "    Sum of list= 10"
   ]
  },
  {
   "cell_type": "code",
   "execution_count": 3,
   "metadata": {},
   "outputs": [],
   "source": [
    "#To do\n",
    "#Using For loop\n"
   ]
  },
  {
   "cell_type": "markdown",
   "metadata": {},
   "source": [
    "Question 5: Print patterns\n",
    "\n",
    "5.a)                            \n",
    "    \n",
    "    *\n",
    "    **\n",
    "    ***\n",
    "    ****\n",
    "    *****\n",
    "\n",
    "5.b)\n",
    "\n",
    "    1    \n",
    "    12\n",
    "    123\n",
    "    1234 \n",
    "    12345"
   ]
  },
  {
   "cell_type": "code",
   "execution_count": 4,
   "metadata": {},
   "outputs": [],
   "source": [
    "#Solution\n",
    "#Pattern 1\n",
    "\n",
    "#pattern 2\n",
    "\n"
   ]
  },
  {
   "cell_type": "markdown",
   "metadata": {},
   "source": [
    "Question 6: Print Patterns\n",
    "\n",
    "6.a)\n",
    "    \n",
    "    1\n",
    "    23\n",
    "    456\n",
    "    78910\n",
    "    \n",
    "6.b) \n",
    "\n",
    "    *****\n",
    "    ****\n",
    "    ***\n",
    "    **\n",
    "    *"
   ]
  },
  {
   "cell_type": "code",
   "execution_count": 5,
   "metadata": {},
   "outputs": [],
   "source": [
    "#To do\n",
    "#Solution 6.a\n",
    "\n",
    "\n",
    "#solution 6.b\n"
   ]
  },
  {
   "cell_type": "markdown",
   "metadata": {},
   "source": [
    "Question 7: Print sum of digits in a number.\n",
    "\n",
    "Example:\n",
    "\n",
    "    Input Number: 123\n",
    "    \n",
    "    Output:\n",
    "    \n",
    "    Sum digits= 6"
   ]
  },
  {
   "cell_type": "code",
   "execution_count": 6,
   "metadata": {},
   "outputs": [],
   "source": [
    "#Solution\n",
    "\n"
   ]
  },
  {
   "cell_type": "markdown",
   "metadata": {},
   "source": [
    "Question 8: Given a list of numbers find out how many are even numbers.\n",
    "\n",
    "Example:\n",
    "\n",
    "    Input list: [5,9,2,14,20,55]\n",
    "    \n",
    "    Output:\n",
    "    \n",
    "    Count of even numbers=3"
   ]
  },
  {
   "cell_type": "code",
   "execution_count": 7,
   "metadata": {},
   "outputs": [],
   "source": [
    "#To do\n",
    "#Solution\n"
   ]
  },
  {
   "cell_type": "markdown",
   "metadata": {},
   "source": [
    "Question 9: Reverse a given number.\n",
    "\n",
    "Example:\n",
    "\n",
    "    Input: 123\n",
    "    \n",
    "    Output: 321"
   ]
  },
  {
   "cell_type": "code",
   "execution_count": 3,
   "metadata": {},
   "outputs": [],
   "source": [
    "#To do\n",
    "#Solution\n"
   ]
  },
  {
   "cell_type": "markdown",
   "metadata": {},
   "source": [
    "Question 10: Find the sum of reverse of numbers in a list.\n",
    "\n",
    "Example-\n",
    "\n",
    "    Input:- [23,41,56,45]\n",
    "    \n",
    "    Output:- Sum = 165(sum of 32,14,65,54)\n"
   ]
  },
  {
   "cell_type": "code",
   "execution_count": 5,
   "metadata": {},
   "outputs": [],
   "source": [
    "#To do\n",
    "#Solution"
   ]
  },
  {
   "cell_type": "markdown",
   "metadata": {},
   "source": [
    "Question 11: Print contents of a list in reverse.\n",
    "\n",
    "Example-\n",
    "\n",
    "    Input:- [54,76,89,98,100]\n",
    "    \n",
    "    Output:-\n",
    "    \n",
    "        100 98 89 76 54"
   ]
  },
  {
   "cell_type": "code",
   "execution_count": 9,
   "metadata": {},
   "outputs": [],
   "source": [
    "#To do\n",
    "#Solution\n"
   ]
  },
  {
   "cell_type": "markdown",
   "metadata": {},
   "source": [
    "# Loop control statements"
   ]
  },
  {
   "cell_type": "code",
   "execution_count": null,
   "metadata": {},
   "outputs": [],
   "source": [
    "#explain break statements, pass statements, continue statements\n",
    "#Give examples\n"
   ]
  },
  {
   "cell_type": "markdown",
   "metadata": {},
   "source": [
    "Question 12: Write a program to find whether a number is prime or not using break.\n",
    "\n",
    "Example:\n",
    "\n",
    "    Input: 4\n",
    "    \n",
    "    Output: Not a prime Number"
   ]
  },
  {
   "cell_type": "code",
   "execution_count": 10,
   "metadata": {},
   "outputs": [],
   "source": [
    "#Solution\n",
    "#Example of Break\n"
   ]
  },
  {
   "cell_type": "markdown",
   "metadata": {},
   "source": [
    "Question 13: Write a program to find sum of even numbers in a list.\n",
    "\n",
    "Example: \n",
    "\n",
    "    Input: [2,4,78,33,21,42]\n",
    "    \n",
    "    Output: Sum= 126(Sum of 2,4,78,42)"
   ]
  },
  {
   "cell_type": "code",
   "execution_count": 7,
   "metadata": {},
   "outputs": [],
   "source": [
    "#Solution\n"
   ]
  },
  {
   "cell_type": "markdown",
   "metadata": {},
   "source": [
    "Question 14: Write a program to find hcf of two numbers.\n",
    "\n",
    "Example: \n",
    "\n",
    "    Input: Two numbers 4,8\n",
    "    \n",
    "    Output: 4(Highest Common Factor)"
   ]
  },
  {
   "cell_type": "code",
   "execution_count": 8,
   "metadata": {},
   "outputs": [],
   "source": [
    "#To do\n",
    "#Solution\n"
   ]
  },
  {
   "cell_type": "markdown",
   "metadata": {},
   "source": [
    "Question 15: Write a program to parse a matrix element by element.\n",
    "\n",
    "Example- \n",
    "    \n",
    "    Input: [[1,2,3],\n",
    "            [4,5,6],\n",
    "            [7,8,9]]\n",
    "            \n",
    "    Output: 1 2 3\n",
    "            4 5 6\n",
    "            7 8 9"
   ]
  },
  {
   "cell_type": "code",
   "execution_count": 12,
   "metadata": {},
   "outputs": [],
   "source": [
    "#Matrix is a list of list\n"
   ]
  },
  {
   "cell_type": "markdown",
   "metadata": {},
   "source": [
    "Question 16: Write a program to find sum of left diagonal in a matrix.\n",
    "\n",
    "Example- \n",
    "    \n",
    "    Input: [[1,2,3],\n",
    "            [4,5,6],\n",
    "            [7,8,9]]\n",
    "    \n",
    "    Output: sum =15"
   ]
  },
  {
   "cell_type": "code",
   "execution_count": 13,
   "metadata": {},
   "outputs": [],
   "source": [
    "#Matrix is a list of list\n",
    "#To do\n",
    "\n"
   ]
  },
  {
   "cell_type": "markdown",
   "metadata": {},
   "source": [
    "Question 17: Print Pattern.\n",
    "    \n",
    "    1\n",
    "    11\n",
    "    121\n",
    "    1331\n",
    "    14641\n",
    "    \n"
   ]
  },
  {
   "cell_type": "code",
   "execution_count": 14,
   "metadata": {},
   "outputs": [],
   "source": [
    "#To do\n"
   ]
  },
  {
   "cell_type": "code",
   "execution_count": null,
   "metadata": {},
   "outputs": [],
   "source": []
  }
 ],
 "metadata": {
  "kernelspec": {
   "display_name": "Python 3",
   "language": "python",
   "name": "python3"
  },
  "language_info": {
   "codemirror_mode": {
    "name": "ipython",
    "version": 3
   },
   "file_extension": ".py",
   "mimetype": "text/x-python",
   "name": "python",
   "nbconvert_exporter": "python",
   "pygments_lexer": "ipython3",
   "version": "3.5.2"
  }
 },
 "nbformat": 4,
 "nbformat_minor": 2
}
