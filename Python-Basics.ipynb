{
 "cells": [
  {
   "cell_type": "markdown",
   "metadata": {},
   "source": [
    "# Author- Tejasvi Sharma\n",
    "\n",
    "Graduate Student, Data Science\n",
    "George Washington University"
   ]
  },
  {
   "cell_type": "markdown",
   "metadata": {},
   "source": [
    "# Python Basics"
   ]
  },
  {
   "cell_type": "markdown",
   "metadata": {},
   "source": [
    "Facts about Python:\n",
    "\n",
    "1)Python is Interpreted - Python is processed at runtime by the interpreter. You do not need to compile your program before executing it. This is similar to PERL and PHP.\n",
    "\n",
    "2)Python is Interactive - You can actually sit at a Python prompt and interact with the interpreter directly to write your programs.\n",
    "\n",
    "3)Python is Object-Oriented- Python supports Object-Oriented style or technique of programming that encapsulates code within objects.\n",
    "\n",
    "4)GUI Programming- Python supports GUI applications that can be created and ported to many system calls, libraries and windows systems, such as Windows MFC, Macintosh, and the X Window system of Unix."
   ]
  },
  {
   "cell_type": "markdown",
   "metadata": {},
   "source": [
    "# Identifiers"
   ]
  },
  {
   "cell_type": "code",
   "execution_count": 34,
   "metadata": {},
   "outputs": [
    {
     "name": "stdout",
     "output_type": "stream",
     "text": [
      "Type of variable A <class 'int'>\n"
     ]
    }
   ],
   "source": [
    "#Identifiers is a name for variables, fucntions, classes and objects.\n",
    "#example of a identifier\n",
    "a=5\n",
    "b='string' \n",
    "# a is an identifier for value 5\n",
    "#identifiers can start with letters or _ but not with a digits.\n",
    "\n",
    "#Finding the type of a variable\n",
    "print(\"Type of variable A\",type(a)) # dynamically-typed language whereas java is statically typed language i.e we specify the type of variable"
   ]
  },
  {
   "cell_type": "code",
   "execution_count": null,
   "metadata": {},
   "outputs": [],
   "source": [
    "#For real examples of identifiers"
   ]
  },
  {
   "cell_type": "markdown",
   "metadata": {},
   "source": [
    "# Reserved Words"
   ]
  },
  {
   "cell_type": "code",
   "execution_count": 5,
   "metadata": {},
   "outputs": [],
   "source": [
    "# Reserved Words - Words reserved by language which cannot be used as an idenfier.\n",
    "#Example for, while, if, elif etc \n"
   ]
  },
  {
   "cell_type": "code",
   "execution_count": null,
   "metadata": {},
   "outputs": [],
   "source": [
    "#To show reserved words cannot be used for indentifiers"
   ]
  },
  {
   "cell_type": "markdown",
   "metadata": {},
   "source": [
    "# Comments"
   ]
  },
  {
   "cell_type": "code",
   "execution_count": 9,
   "metadata": {},
   "outputs": [
    {
     "data": {
      "text/plain": [
       "'Multi line comments'"
      ]
     },
     "execution_count": 9,
     "metadata": {},
     "output_type": "execute_result"
    }
   ],
   "source": [
    "#Comments are the most important part of the code. They help one to undertand the logic of\n",
    "#code\n",
    "\n",
    "#Single line comments\n",
    "#Comments are written with "
   ]
  },
  {
   "cell_type": "markdown",
   "metadata": {},
   "source": [
    "# Data Types"
   ]
  },
  {
   "cell_type": "markdown",
   "metadata": {},
   "source": [
    "Python has five standard data types −\n",
    "\n",
    "    1)Numbers\n",
    "    2)String\n",
    "    3)List\n",
    "    4)Tuple\n",
    "    5)Dictionary\n"
   ]
  },
  {
   "cell_type": "code",
   "execution_count": 1,
   "metadata": {},
   "outputs": [],
   "source": [
    "#Examples of Data Types\n",
    "a=5 #Nmber\n",
    "b=5.6 #Number\n",
    "val=\"Data  Science\" #string \n",
    "l=[1,2,3,4,5] #list -grouping of multiple values , index starts with 0 - [] for list\n",
    "t=(1,2,3,4) #tuple -grouping  of multiple values, it is like a list but these are only read only, cannot be updated, index starts with 0,() for tuple\n",
    "d={\"a\":5,\"c\":2} #curly brackets are for dictionary"
   ]
  },
  {
   "cell_type": "markdown",
   "metadata": {},
   "source": [
    "# Numbers"
   ]
  },
  {
   "cell_type": "code",
   "execution_count": 4,
   "metadata": {},
   "outputs": [
    {
     "ename": "NameError",
     "evalue": "name 'a' is not defined",
     "output_type": "error",
     "traceback": [
      "\u001b[1;31m---------------------------------------------------------------------------\u001b[0m",
      "\u001b[1;31mNameError\u001b[0m                                 Traceback (most recent call last)",
      "\u001b[1;32m<ipython-input-4-a00ce9091f37>\u001b[0m in \u001b[0;36m<module>\u001b[1;34m()\u001b[0m\n\u001b[0;32m      8\u001b[0m \u001b[1;33m\u001b[0m\u001b[0m\n\u001b[0;32m      9\u001b[0m \u001b[1;32mdel\u001b[0m \u001b[0ma\u001b[0m\u001b[1;33m\u001b[0m\u001b[0m\n\u001b[1;32m---> 10\u001b[1;33m \u001b[0mprint\u001b[0m\u001b[1;33m(\u001b[0m\u001b[0ma\u001b[0m\u001b[1;33m)\u001b[0m\u001b[1;33m\u001b[0m\u001b[0m\n\u001b[0m\u001b[0;32m     11\u001b[0m \u001b[1;33m\u001b[0m\u001b[0m\n\u001b[0;32m     12\u001b[0m \u001b[1;31m#Refer this link for more Information https://www.tutorialspoint.com/python/python_numbers.htm\u001b[0m\u001b[1;33m\u001b[0m\u001b[1;33m\u001b[0m\u001b[0m\n",
      "\u001b[1;31mNameError\u001b[0m: name 'a' is not defined"
     ]
    }
   ],
   "source": [
    "#Number data types store numeric values. They are immutable data types, means that changing the value of a number data type results in a newly allocated object. #Ref From Tutorial point\n",
    "\n",
    "#Example\n",
    "a =10\n",
    "b =20\n",
    "\n",
    "#Objects can be delete using del statement.\n",
    "\n",
    "del a \n",
    "print(a)\n",
    "\n",
    "#Refer this link for more Information https://www.tutorialspoint.com/python/python_numbers.htm"
   ]
  },
  {
   "cell_type": "markdown",
   "metadata": {},
   "source": [
    "# String"
   ]
  },
  {
   "cell_type": "code",
   "execution_count": 5,
   "metadata": {},
   "outputs": [],
   "source": [
    "#String are created using \"\", ''.\n",
    "\n",
    "#Example\n",
    "\n",
    "a=\"This is a String\"\n",
    "b='This is a String'\n",
    "\n",
    "#There are various function in String which we will discuss afterwards.\n",
    "#Refer this link for more information https://www.tutorialspoint.com/python/python_strings.htm"
   ]
  },
  {
   "cell_type": "markdown",
   "metadata": {},
   "source": [
    "# List"
   ]
  },
  {
   "cell_type": "code",
   "execution_count": 10,
   "metadata": {},
   "outputs": [
    {
     "name": "stdout",
     "output_type": "stream",
     "text": [
      "1\n",
      "Accessing list first element 1\n",
      "length of a list 5\n",
      "70\n"
     ]
    }
   ],
   "source": [
    "#For more examples and access data from list, tuple and dict\n",
    "#List can have different types of data\n",
    "#index starts with zero\n",
    "print(l[0])\n",
    "\n",
    "#accessing elements from list\n",
    "print(\"Accessing list first element\",l[0])\n",
    "\n",
    "#getting length of a list\n",
    "print(\"length of a list\",len(l))\n",
    "\n",
    "#changing values at an index\n",
    "l[0]=70\n",
    "print(l[0])\n",
    "\n",
    "\n",
    "#Refer this link for more info - https://www.tutorialspoint.com/python/python_lists.htm"
   ]
  },
  {
   "cell_type": "markdown",
   "metadata": {},
   "source": [
    "# Tuple"
   ]
  },
  {
   "cell_type": "code",
   "execution_count": 4,
   "metadata": {},
   "outputs": [
    {
     "name": "stdout",
     "output_type": "stream",
     "text": [
      "2\n"
     ]
    },
    {
     "ename": "TypeError",
     "evalue": "'tuple' object does not support item assignment",
     "output_type": "error",
     "traceback": [
      "\u001b[0;31m---------------------------------------------------------------------------\u001b[0m",
      "\u001b[0;31mTypeError\u001b[0m                                 Traceback (most recent call last)",
      "\u001b[0;32m<ipython-input-4-42037d5598f8>\u001b[0m in \u001b[0;36m<module>\u001b[0;34m()\u001b[0m\n\u001b[1;32m      8\u001b[0m \u001b[0;34m\u001b[0m\u001b[0m\n\u001b[1;32m      9\u001b[0m \u001b[0;31m#trying to change value at a index, to show that tuple is immutable\u001b[0m\u001b[0;34m\u001b[0m\u001b[0;34m\u001b[0m\u001b[0m\n\u001b[0;32m---> 10\u001b[0;31m \u001b[0mtup\u001b[0m\u001b[0;34m[\u001b[0m\u001b[0;36m1\u001b[0m\u001b[0;34m]\u001b[0m\u001b[0;34m=\u001b[0m\u001b[0;36m6\u001b[0m\u001b[0;34m\u001b[0m\u001b[0m\n\u001b[0m\u001b[1;32m     11\u001b[0m \u001b[0;34m\u001b[0m\u001b[0m\n\u001b[1;32m     12\u001b[0m \u001b[0;31m#Refer this link for more info https://www.tutorialspoint.com/python/python_tuples.htm\u001b[0m\u001b[0;34m\u001b[0m\u001b[0;34m\u001b[0m\u001b[0m\n",
      "\u001b[0;31mTypeError\u001b[0m: 'tuple' object does not support item assignment"
     ]
    }
   ],
   "source": [
    "#Tuple is same as list but immutable i.e values cannot be changed on indexes.\n",
    "\n",
    "#example\n",
    "tup=(1,2,3,4)\n",
    "\n",
    "#accessing is same as a list.\n",
    "print(tup[1])\n",
    "\n",
    "#trying to change value at a index, to show that tuple is immutable,explain mutable and immutable\n",
    "tup[1]=6\n",
    "\n",
    "#Refer this link for more info https://www.tutorialspoint.com/python/python_tuples.htm"
   ]
  },
  {
   "cell_type": "markdown",
   "metadata": {},
   "source": [
    "# Dictionary"
   ]
  },
  {
   "cell_type": "code",
   "execution_count": 5,
   "metadata": {},
   "outputs": [
    {
     "name": "stdout",
     "output_type": "stream",
     "text": [
      "one\n",
      "dict_keys([1, 2, 3, 4])\n",
      "dict_values(['one', 'two', 'three', 'four'])\n"
     ]
    }
   ],
   "source": [
    "#Dictionary stores data as key->value pair\n",
    "\n",
    "#example\n",
    "a={1:\"one\",2:\"two\",3:\"three\",4:\"four\"}\n",
    "print(a[1])\n",
    "\n",
    "\n",
    "#accessing keys in a dictionary\n",
    "print(a.keys())\n",
    "\n",
    "#accessing values in a dictionary\n",
    "print(a.values())"
   ]
  },
  {
   "cell_type": "raw",
   "metadata": {},
   "source": [
    "# Operators"
   ]
  },
  {
   "cell_type": "code",
   "execution_count": 6,
   "metadata": {},
   "outputs": [
    {
     "name": "stdout",
     "output_type": "stream",
     "text": [
      "Addition= 10\n",
      "Subtraction= 4\n",
      "Multiplication= 100\n",
      "Division= 1.25\n",
      "Modulus= 2\n",
      "Exponent= 8\n",
      "Floor Division= 3\n"
     ]
    }
   ],
   "source": [
    "#Arithmatic Operators- \n",
    "\n",
    "#Addition(+)\n",
    "a=5+5\n",
    "print(\"Addition=\",a)\n",
    "#Subtraction(-)\n",
    "s=9-5\n",
    "print(\"Subtraction=\",s)\n",
    "#Multiplication(*)\n",
    "m=5*20\n",
    "print(\"Multiplication=\",m)\n",
    "#Division(/)\n",
    "d=5/4\n",
    "print(\"Division=\",d)\n",
    "#Modulus(%) #explain with -1%2\n",
    "mod=5%3\n",
    "print(\"Modulus=\",mod)\n",
    "#Exponent(**)\n",
    "ex=2**3\n",
    "print(\"Exponent=\",ex)\n",
    "#Floor Division(//)\n",
    "fd=7//2\n",
    "print(\"Floor Division=\",fd)"
   ]
  },
  {
   "cell_type": "code",
   "execution_count": 29,
   "metadata": {},
   "outputs": [],
   "source": [
    "#show the results on spot and change the values, explain modulus with a negative numerator"
   ]
  },
  {
   "cell_type": "code",
   "execution_count": 40,
   "metadata": {},
   "outputs": [
    {
     "name": "stdout",
     "output_type": "stream",
     "text": [
      "Equal to= False\n",
      "Not Equal to= True\n",
      "Greater than= False\n",
      "Less than= True\n",
      "Greater than equal to= False\n",
      "Less than equal to= True\n"
     ]
    }
   ],
   "source": [
    "#Comparison Operators-\n",
    "#Answer for Comparison is either True or False\n",
    "#usually we refer True as 1 and false as 0\n",
    "#Equalto ==\n",
    "a=5\n",
    "b=20\n",
    "print(\"Equal to=\",a==b)\n",
    "\n",
    "#Not Equal to != or <>\n",
    "print(\"Not Equal to=\",a!=b)\n",
    "\n",
    "#greater than\n",
    "print(\"Greater than=\",a>b)\n",
    "\n",
    "#less than\n",
    "print(\"Less than=\",a<b)\n",
    "\n",
    "#greater than equal to\n",
    "print(\"Greater than equal to=\",a>=b)\n",
    "\n",
    "#Less than equal to\n",
    "print(\"Less than equal to=\",a<=b)"
   ]
  },
  {
   "cell_type": "code",
   "execution_count": 42,
   "metadata": {},
   "outputs": [
    {
     "name": "stdout",
     "output_type": "stream",
     "text": [
      "True\n",
      "True\n"
     ]
    }
   ],
   "source": [
    "#Membership Operators\n",
    "\n",
    "# if we want to check whether a value is in a sequence or not these operators can be used\n",
    "#in \n",
    "l=[1,2,3,4,5]\n",
    "print(1 in l)\n",
    "\n",
    "#not in\n",
    "print(6 not in l)"
   ]
  },
  {
   "cell_type": "code",
   "execution_count": 52,
   "metadata": {},
   "outputs": [
    {
     "name": "stdout",
     "output_type": "stream",
     "text": [
      "True\n",
      "[1, 2, 6, 4]\n",
      "False\n"
     ]
    }
   ],
   "source": [
    "#Identity Operators\n",
    "# these find whether the two variables are on same memory location\n",
    "# is\n",
    "import copy\n",
    "a=[1,2,3,4]\n",
    "b=a #use copy.deepcopy to copy an object, so that it creates a copy of complete object\n",
    "a[2]=6\n",
    "print(a is b)\n",
    "print(b)\n",
    "# is not\n",
    "\n",
    "print(a is not b)"
   ]
  },
  {
   "cell_type": "code",
   "execution_count": null,
   "metadata": {},
   "outputs": [],
   "source": []
  }
 ],
 "metadata": {
  "kernelspec": {
   "display_name": "Python 3",
   "language": "python",
   "name": "python3"
  },
  "language_info": {
   "codemirror_mode": {
    "name": "ipython",
    "version": 3
   },
   "file_extension": ".py",
   "mimetype": "text/x-python",
   "name": "python",
   "nbconvert_exporter": "python",
   "pygments_lexer": "ipython3",
   "version": "3.5.2"
  }
 },
 "nbformat": 4,
 "nbformat_minor": 2
}
