{
 "cells": [
  {
   "cell_type": "markdown",
   "metadata": {},
   "source": [
    "# Author - Tejasvi Sharma\n",
    "\n",
    "Data Science Student, George Washington University"
   ]
  },
  {
   "cell_type": "markdown",
   "metadata": {},
   "source": [
    "Strings in python surrounded by either single quotation marks, or double quotation marks.\n",
    "\n",
    "'hello' is the same as \"hello\"."
   ]
  },
  {
   "cell_type": "code",
   "execution_count": 4,
   "metadata": {},
   "outputs": [],
   "source": [
    "#Example\n",
    "\n",
    "a=\"This is a String\"\n",
    "b='This is also a String'"
   ]
  },
  {
   "cell_type": "code",
   "execution_count": 5,
   "metadata": {},
   "outputs": [
    {
     "name": "stdout",
     "output_type": "stream",
     "text": [
      "This is a String\n",
      "This is also a String\n"
     ]
    }
   ],
   "source": [
    "#printing a string value\n",
    "print(a)\n",
    "print(b)"
   ]
  },
  {
   "cell_type": "code",
   "execution_count": 35,
   "metadata": {},
   "outputs": [
    {
     "name": "stdout",
     "output_type": "stream",
     "text": [
      "Output of length function\n",
      "Length =  16\n",
      "\n",
      "Output of strip function\n",
      "Length =  4\n",
      "\n",
      "Output of lstrip function\n",
      "Length =  8\n",
      "1234    \n",
      "\n",
      "Output of rstrip function\n",
      "Length =  8\n",
      "    1234\n",
      "\n",
      "Output of lowercase function\n",
      "output of lowercase function =  qyacdv\n",
      "\n",
      "Output of uppercase function\n",
      "output of uppercase function =  QYACDV\n",
      "\n",
      "Output of replace function  XAZ\n",
      "\n",
      "Output of find function -1\n",
      "Output of find function 0\n",
      "\n",
      "Output of index function 0\n",
      "\n",
      "Output of Join function  123_456_789\n",
      "Output of split function  ['This', 'is', 'a', 'string']\n"
     ]
    }
   ],
   "source": [
    "#Common functions in String.\n",
    "\n",
    "#Length function, to find length of a string\n",
    "print(\"Output of length function\")\n",
    "print(\"Length = \",len(a))\n",
    "print()\n",
    "\n",
    "#Strip method, to remove whitespaces from left and right side\n",
    "print(\"Output of strip function\")\n",
    "print(\"Length = \",len(\"    1234    \".strip()))\n",
    "print()\n",
    "\n",
    "#Strip method works both on left and right side, but we can work on only left side using lstrip\n",
    "print(\"Output of lstrip function\")\n",
    "print(\"Length = \",len(\"    1234    \".lstrip()))\n",
    "print(\"    1234    \".lstrip())\n",
    "print()\n",
    "\n",
    "#In similar way, rstrip works to remove whitespaces on the right side of the string\n",
    "print(\"Output of rstrip function\")\n",
    "print(\"Length = \",len(\"    1234    \".rstrip()))\n",
    "print(\"    1234    \".rstrip())\n",
    "print()\n",
    "\n",
    "#Lowercase function\n",
    "print(\"Output of lowercase function\")\n",
    "print(\"output of lowercase function = \",\"QYAcdv\".lower())\n",
    "print()\n",
    "\n",
    "#Uppercase function\n",
    "print(\"Output of uppercase function\")\n",
    "print(\"output of uppercase function = \",\"QYAcdv\".upper())\n",
    "print()\n",
    "\n",
    "#Replace function, to replace a part of string with other string\n",
    "#example\n",
    "st=\"XYZ\"\n",
    "st_new=st.replace(\"Y\",\"A\")\n",
    "print(\"Output of replace function \",st_new)\n",
    "print()\n",
    "\n",
    "#Find function, to find a string in a string\n",
    "st=\"XYZABC\"\n",
    "print(\"Output of find function\",st.find(\"E\")) #if a character or string is not found it returns -1\n",
    "print(\"Output of find function\",st.find(\"X\")) #if a character or string is found it returns index\n",
    "print()\n",
    "\n",
    "#Index function, to get index of a string in string\n",
    "st=\"XYZABC\"\n",
    "#print(\"Output of index function\",st.index(\"E\")) #if a character or string is not found it gives error\n",
    "print(\"Output of index function\",st.index(\"X\")) #if a character or string is found it returns index\n",
    "print()\n",
    "\n",
    "\n",
    "#Join function, to join multiple strings\n",
    "string_list=[\"123\",\"456\",\"789\"]\n",
    "print(\"Output of Join function \", \"_\".join(string_list)) #join by _\n",
    "\n",
    "#split function, to split a string in multiple strings\n",
    "st=\"This is a string\"\n",
    "li=st.split(\" \") #split by space\n",
    "print(\"Output of split function \",li )\n",
    "\n"
   ]
  },
  {
   "cell_type": "markdown",
   "metadata": {},
   "source": [
    "# Indexing"
   ]
  },
  {
   "cell_type": "code",
   "execution_count": 40,
   "metadata": {},
   "outputs": [
    {
     "name": "stdout",
     "output_type": "stream",
     "text": [
      "First character =  T\n",
      "Last character =  g\n",
      "Sequence=  his \n",
      "Sequence=   is a string\n"
     ]
    }
   ],
   "source": [
    "#extracting data from string using indexes, substring\n",
    "#index starts from 0 in string\n",
    "\n",
    "st=\"This is a string\"\n",
    "\n",
    "#getting a single character\n",
    "#getting first character, index 0\n",
    "print(\"First character = \",st[0])\n",
    "\n",
    "#getting last character\n",
    "print(\"Last character = \",st[-1]) #minus can used to access characters from reverse\n",
    "\n",
    "#getting a sequence of characters from a string use colon(:)\n",
    "print(\"Sequence= \",st[1:5]) #getting characers from index 1 to last-1 i.e upto 4\n",
    "\n",
    "#to get data from an index upto last, give only first index\n",
    "print(\"Sequence= \",st[4:]) #data from 4th index to last\n",
    "\n"
   ]
  },
  {
   "cell_type": "markdown",
   "metadata": {},
   "source": [
    "Question 1 :Write a program to loop through a string and print character by character."
   ]
  },
  {
   "cell_type": "code",
   "execution_count": 2,
   "metadata": {},
   "outputs": [
    {
     "name": "stdout",
     "output_type": "stream",
     "text": [
      "First method\n",
      "T\n",
      "h\n",
      "i\n",
      "s\n",
      " \n",
      "i\n",
      "s\n",
      " \n",
      "a\n",
      " \n",
      "S\n",
      "t\n",
      "r\n",
      "i\n",
      "n\n",
      "g\n",
      "Second method\n",
      "T\n",
      "h\n",
      "i\n",
      "s\n",
      " \n",
      "i\n",
      "s\n",
      " \n",
      "a\n",
      " \n",
      "S\n",
      "t\n",
      "r\n",
      "i\n",
      "n\n",
      "g\n"
     ]
    }
   ],
   "source": [
    "#Solution\n",
    "\n",
    "st=\"This is a String\"\n",
    "print(\"First method\")\n",
    "for i in st:\n",
    "    print(i)\n",
    "    \n",
    "print(\"Second method\")\n",
    "for i in range(0,len(st)):\n",
    "    print(st[i])\n"
   ]
  },
  {
   "cell_type": "markdown",
   "metadata": {},
   "source": [
    "Question 2: Write a program to count number of vowels in a sentence."
   ]
  },
  {
   "cell_type": "code",
   "execution_count": 5,
   "metadata": {},
   "outputs": [
    {
     "name": "stdout",
     "output_type": "stream",
     "text": [
      "Number of vowels=  5\n"
     ]
    }
   ],
   "source": [
    "#Solution\n",
    "#To do\n",
    "count=0\n",
    "#st=\"This is a String\"\n",
    "st=\"Aeiou\"\n",
    "for i in st:\n",
    "    b=i.lower()\n",
    "    if(b=='a' or b=='e' or b=='i' or b=='o' or b=='u'):\n",
    "        count=count+1\n",
    "\n",
    "print(\"Number of vowels= \",count)"
   ]
  },
  {
   "cell_type": "markdown",
   "metadata": {},
   "source": [
    "Question 3: Write a program to count number of words in a sentence."
   ]
  },
  {
   "cell_type": "code",
   "execution_count": 1,
   "metadata": {},
   "outputs": [
    {
     "name": "stdout",
     "output_type": "stream",
     "text": [
      "Number of words= 4\n"
     ]
    }
   ],
   "source": [
    "#Solution\n",
    "#To do\n",
    "st=\"This is a String\"\n",
    "#using strip first\n",
    "count=0\n",
    "st=st.strip() #explain why strip\n",
    "for i in st:\n",
    "    if(ord(i)==32):\n",
    "        count=count+1\n",
    "print(\"Number of words=\",count+1)\n",
    "\n",
    "#another method\n",
    "#li=st.split(\" \")\n",
    "#print(\"Number of words=\",len(li))"
   ]
  },
  {
   "cell_type": "markdown",
   "metadata": {},
   "source": [
    "Question 4: Write a program to reverse a string and print."
   ]
  },
  {
   "cell_type": "code",
   "execution_count": 12,
   "metadata": {},
   "outputs": [
    {
     "name": "stdout",
     "output_type": "stream",
     "text": [
      "gnirtS a si sihT"
     ]
    }
   ],
   "source": [
    "#Solution\n",
    "#To do\n",
    "st=\"This is a String\"\n",
    "for i in range(len(st)-1,-1,-1):\n",
    "    print(st[i],end='')"
   ]
  },
  {
   "cell_type": "markdown",
   "metadata": {},
   "source": [
    "Question 5: Write a program to find whether a string is palindrome or not"
   ]
  },
  {
   "cell_type": "code",
   "execution_count": 14,
   "metadata": {},
   "outputs": [
    {
     "name": "stdout",
     "output_type": "stream",
     "text": [
      "Palindrome\n"
     ]
    }
   ],
   "source": [
    "#Solution\n",
    "#To do\n",
    "st=\"madam\"\n",
    "rev=\"\"\n",
    "for i in range(len(st)-1,-1,-1):\n",
    "    rev=rev+st[i]\n",
    "\n",
    "if(rev==st):\n",
    "    print(\"Palindrome\")\n",
    "else:\n",
    "    print(\"Not a Palindrome\")"
   ]
  },
  {
   "cell_type": "markdown",
   "metadata": {},
   "source": [
    "Question 6: Write a program to find the longest word in a string."
   ]
  },
  {
   "cell_type": "code",
   "execution_count": 22,
   "metadata": {},
   "outputs": [
    {
     "name": "stdout",
     "output_type": "stream",
     "text": [
      "Longest word = String\n"
     ]
    }
   ],
   "source": [
    "#Solution\n",
    "st=\"This is a String\"\n",
    "st=st.strip()\n",
    "li=st.split(\" \")\n",
    "ll=[]\n",
    "for i in li:\n",
    "    ll.append(len(i))\n",
    "max_value=max(ll)\n",
    "print(\"Longest word =\",li[ll.index(max_value)])"
   ]
  },
  {
   "cell_type": "markdown",
   "metadata": {},
   "source": [
    "Question 7:Write a program to find count of a occurances of a word in a string."
   ]
  },
  {
   "cell_type": "code",
   "execution_count": 25,
   "metadata": {},
   "outputs": [
    {
     "name": "stdout",
     "output_type": "stream",
     "text": [
      "Count= 3\n"
     ]
    }
   ],
   "source": [
    "#Solution\n",
    "#To do\n",
    "st=\"This is a String, This is a String, This is a String\"\n",
    "st=st.strip()\n",
    "li=st.split(\" \")\n",
    "count=0\n",
    "search_word=\"is\"\n",
    "for i in li:\n",
    "    if(i==search_word):\n",
    "        count=count+1\n",
    "        \n",
    "print(\"Count=\",count)\n",
    "\n",
    "#another method \n",
    "#print(\"Count=\",len([i for i,val in enumerate(li) if val==search_word]))"
   ]
  },
  {
   "cell_type": "markdown",
   "metadata": {},
   "source": [
    "Question 8: Write a function to accept a list of string and return a list with all strings in lowercase."
   ]
  },
  {
   "cell_type": "code",
   "execution_count": 35,
   "metadata": {},
   "outputs": [
    {
     "name": "stdout",
     "output_type": "stream",
     "text": [
      "['abaa', 'bajua', 'jcnjdnjcde', 'jdvnvadnj']\n"
     ]
    }
   ],
   "source": [
    "#Solution\n",
    "#To do\n",
    "ll=[\"AbaA\",\"BAJUA\",\"jcnjdnjCDE\",\"jdvnvADNJ\"]\n",
    "def lower_func(ll):\n",
    "    for i in range(0,len(ll)):\n",
    "        ll[i]=ll[i].lower()\n",
    "lower_func(ll)\n",
    "print(ll)"
   ]
  },
  {
   "cell_type": "code",
   "execution_count": null,
   "metadata": {},
   "outputs": [],
   "source": []
  }
 ],
 "metadata": {
  "kernelspec": {
   "display_name": "Python 3",
   "language": "python",
   "name": "python3"
  },
  "language_info": {
   "codemirror_mode": {
    "name": "ipython",
    "version": 3
   },
   "file_extension": ".py",
   "mimetype": "text/x-python",
   "name": "python",
   "nbconvert_exporter": "python",
   "pygments_lexer": "ipython3",
   "version": "3.6.4"
  }
 },
 "nbformat": 4,
 "nbformat_minor": 2
}
