{
 "cells": [
  {
   "cell_type": "markdown",
   "metadata": {},
   "source": [
    "# Author - Tejasvi Sharma\n",
    "\n",
    "Data Science Student, George Washington University"
   ]
  },
  {
   "cell_type": "markdown",
   "metadata": {},
   "source": [
    "Strings in python surrounded by either single quotation marks, or double quotation marks.\n",
    "\n",
    "'hello' is the same as \"hello\"."
   ]
  },
  {
   "cell_type": "code",
   "execution_count": 4,
   "metadata": {},
   "outputs": [],
   "source": [
    "#Example\n",
    "\n",
    "a=\"This is a String\"\n",
    "b='This is also a String'"
   ]
  },
  {
   "cell_type": "code",
   "execution_count": 5,
   "metadata": {},
   "outputs": [
    {
     "name": "stdout",
     "output_type": "stream",
     "text": [
      "This is a String\n",
      "This is also a String\n"
     ]
    }
   ],
   "source": [
    "#printing a string value\n",
    "print(a)\n",
    "print(b)"
   ]
  },
  {
   "cell_type": "code",
   "execution_count": 35,
   "metadata": {},
   "outputs": [
    {
     "name": "stdout",
     "output_type": "stream",
     "text": [
      "Output of length function\n",
      "Length =  16\n",
      "\n",
      "Output of strip function\n",
      "Length =  4\n",
      "\n",
      "Output of lstrip function\n",
      "Length =  8\n",
      "1234    \n",
      "\n",
      "Output of rstrip function\n",
      "Length =  8\n",
      "    1234\n",
      "\n",
      "Output of lowercase function\n",
      "output of lowercase function =  qyacdv\n",
      "\n",
      "Output of uppercase function\n",
      "output of uppercase function =  QYACDV\n",
      "\n",
      "Output of replace function  XAZ\n",
      "\n",
      "Output of find function -1\n",
      "Output of find function 0\n",
      "\n",
      "Output of index function 0\n",
      "\n",
      "Output of Join function  123_456_789\n",
      "Output of split function  ['This', 'is', 'a', 'string']\n"
     ]
    }
   ],
   "source": [
    "#Common functions in String.\n",
    "\n",
    "#Length function, to find length of a string\n",
    "print(\"Output of length function\")\n",
    "print(\"Length = \",len(a))\n",
    "print()\n",
    "\n",
    "#Strip method, to remove whitespaces from left and right side\n",
    "print(\"Output of strip function\")\n",
    "print(\"Length = \",len(\"    1234    \".strip()))\n",
    "print()\n",
    "\n",
    "#Strip method works both on left and right side, but we can work on only left side using lstrip\n",
    "print(\"Output of lstrip function\")\n",
    "print(\"Length = \",len(\"    1234    \".lstrip()))\n",
    "print(\"    1234    \".lstrip())\n",
    "print()\n",
    "\n",
    "#In similar way, rstrip works to remove whitespaces on the right side of the string\n",
    "print(\"Output of rstrip function\")\n",
    "print(\"Length = \",len(\"    1234    \".rstrip()))\n",
    "print(\"    1234    \".rstrip())\n",
    "print()\n",
    "\n",
    "#Lowercase function\n",
    "print(\"Output of lowercase function\")\n",
    "print(\"output of lowercase function = \",\"QYAcdv\".lower())\n",
    "print()\n",
    "\n",
    "#Uppercase function\n",
    "print(\"Output of uppercase function\")\n",
    "print(\"output of uppercase function = \",\"QYAcdv\".upper())\n",
    "print()\n",
    "\n",
    "#Replace function, to replace a part of string with other string\n",
    "#example\n",
    "st=\"XYZ\"\n",
    "st_new=st.replace(\"Y\",\"A\")\n",
    "print(\"Output of replace function \",st_new)\n",
    "print()\n",
    "\n",
    "#Find function, to find a string in a string\n",
    "st=\"XYZABC\"\n",
    "print(\"Output of find function\",st.find(\"E\")) #if a character or string is not found it returns -1\n",
    "print(\"Output of find function\",st.find(\"X\")) #if a character or string is found it returns index\n",
    "print()\n",
    "\n",
    "#Index function, to get index of a string in string\n",
    "st=\"XYZABC\"\n",
    "#print(\"Output of index function\",st.index(\"E\")) #if a character or string is not found it gives error\n",
    "print(\"Output of index function\",st.index(\"X\")) #if a character or string is found it returns index\n",
    "print()\n",
    "\n",
    "\n",
    "#Join function, to join multiple strings\n",
    "string_list=[\"123\",\"456\",\"789\"]\n",
    "print(\"Output of Join function \", \"_\".join(string_list)) #join by _\n",
    "\n",
    "#split function, to split a string in multiple strings\n",
    "st=\"This is a string\"\n",
    "li=st.split(\" \") #split by space\n",
    "print(\"Output of split function \",li )\n",
    "\n"
   ]
  },
  {
   "cell_type": "markdown",
   "metadata": {},
   "source": [
    "# Indexing"
   ]
  },
  {
   "cell_type": "code",
   "execution_count": 40,
   "metadata": {},
   "outputs": [
    {
     "name": "stdout",
     "output_type": "stream",
     "text": [
      "First character =  T\n",
      "Last character =  g\n",
      "Sequence=  his \n",
      "Sequence=   is a string\n"
     ]
    }
   ],
   "source": [
    "#extracting data from string using indexes, substring\n",
    "#index starts from 0 in string\n",
    "\n",
    "st=\"This is a string\"\n",
    "\n",
    "#getting a single character\n",
    "#getting first character, index 0\n",
    "print(\"First character = \",st[0])\n",
    "\n",
    "#getting last character\n",
    "print(\"Last character = \",st[-1]) #minus can used to access characters from reverse\n",
    "\n",
    "#getting a sequence of characters from a string use colon(:)\n",
    "print(\"Sequence= \",st[1:5]) #getting characers from index 1 to last-1 i.e upto 4\n",
    "\n",
    "#to get data from an index upto last, give only first index\n",
    "print(\"Sequence= \",st[4:]) #data from 4th index to last\n",
    "\n"
   ]
  },
  {
   "cell_type": "markdown",
   "metadata": {},
   "source": [
    "Question 1 :Write a program to loop through a string and print character by character.\n",
    "\n",
    "Example- \n",
    "\n",
    "    Given String - \"HELLO\"\n",
    "\n",
    "    OUTPUT- H\n",
    "            E\n",
    "            L\n",
    "            L\n",
    "            O"
   ]
  },
  {
   "cell_type": "code",
   "execution_count": null,
   "metadata": {},
   "outputs": [],
   "source": [
    "#Solution"
   ]
  },
  {
   "cell_type": "markdown",
   "metadata": {},
   "source": [
    "Question 2: Write a program to count number of vowels in a sentence.\n",
    "\n",
    "Example-\n",
    "\n",
    "    Input String:- \"HELLO\"\n",
    "    \n",
    "    Output:\n",
    "    \n",
    "    Number of vowels=  2\n",
    "    "
   ]
  },
  {
   "cell_type": "code",
   "execution_count": 42,
   "metadata": {},
   "outputs": [],
   "source": [
    "#Solution\n",
    "#To do"
   ]
  },
  {
   "cell_type": "markdown",
   "metadata": {},
   "source": [
    "Question 3: Write a program to count number of words in a sentence.\n",
    "\n",
    "Example-\n",
    "    \n",
    "    Input String:- \"This is a String\"\n",
    "    \n",
    "    Output:\n",
    "    \n",
    "    Number of words= 4"
   ]
  },
  {
   "cell_type": "code",
   "execution_count": 43,
   "metadata": {},
   "outputs": [],
   "source": [
    "#Solution\n",
    "#To do"
   ]
  },
  {
   "cell_type": "markdown",
   "metadata": {},
   "source": [
    "Question 4: Write a program to reverse a string and print.\n",
    "\n",
    "Example-\n",
    "\n",
    "    Input String:- \"HELLO\"\n",
    "    \n",
    "    Output:\n",
    "    \n",
    "    OLLEH"
   ]
  },
  {
   "cell_type": "code",
   "execution_count": null,
   "metadata": {},
   "outputs": [],
   "source": [
    "#Solution\n",
    "#To do"
   ]
  },
  {
   "cell_type": "markdown",
   "metadata": {},
   "source": [
    "Question 5: Write a program to find whether a string is palindrome or not\n",
    "\n",
    "Example 1-\n",
    "    \n",
    "    Input String:- \"MADAM\"\n",
    "    \n",
    "    Output:\n",
    "    \n",
    "    Palindrome\n",
    "\n",
    "Example 2-\n",
    "\n",
    "    Input String:- \"HELLO\"\n",
    "    \n",
    "    Output:\n",
    "    \n",
    "    Not Palindrome"
   ]
  },
  {
   "cell_type": "code",
   "execution_count": 48,
   "metadata": {},
   "outputs": [],
   "source": [
    "#Solution\n",
    "#To do"
   ]
  },
  {
   "cell_type": "markdown",
   "metadata": {},
   "source": [
    "Question 6: Write a program to find the longest word in a string.\n",
    "\n",
    "Example-\n",
    "\n",
    "    Input String:- \"This is a String\"\n",
    "    \n",
    "    Output:\n",
    "    \n",
    "    Longest word = String"
   ]
  },
  {
   "cell_type": "code",
   "execution_count": 50,
   "metadata": {},
   "outputs": [],
   "source": [
    "#Solution"
   ]
  },
  {
   "cell_type": "markdown",
   "metadata": {},
   "source": [
    "Question 7:Write a program to find count of a occurance of a word in a string.\n",
    "\n",
    "Example-\n",
    "\n",
    "    Input String:- \"This is a String This is a String\"\n",
    "    \n",
    "    search word =is\n",
    "    \n",
    "    Output:\n",
    "    \n",
    "    Count=3"
   ]
  },
  {
   "cell_type": "code",
   "execution_count": 51,
   "metadata": {},
   "outputs": [],
   "source": [
    "#Solution\n",
    "#To do\n"
   ]
  },
  {
   "cell_type": "markdown",
   "metadata": {},
   "source": [
    "Question 9: Write a function to accept a list of string and return a list with all strings in lowercase.\n",
    "\n",
    "Example:-\n",
    "\n",
    "    Input list:-\n",
    "    \n",
    "    ll=[\"AbaA\",\"BAJUA\",\"jcnjdnjCDE\",\"jdvnvADNJ\"]\n",
    "    \n",
    "    Output:\n",
    "    \n",
    "    ['abaa', 'bajua', 'jcnjdnjcde', 'jdvnvadnj']\n",
    "\n",
    "\n",
    "    "
   ]
  },
  {
   "cell_type": "code",
   "execution_count": null,
   "metadata": {},
   "outputs": [],
   "source": [
    "#Solution\n",
    "#To do"
   ]
  }
 ],
 "metadata": {
  "kernelspec": {
   "display_name": "Python 3",
   "language": "python",
   "name": "python3"
  },
  "language_info": {
   "codemirror_mode": {
    "name": "ipython",
    "version": 3
   },
   "file_extension": ".py",
   "mimetype": "text/x-python",
   "name": "python",
   "nbconvert_exporter": "python",
   "pygments_lexer": "ipython3",
   "version": "3.6.4"
  }
 },
 "nbformat": 4,
 "nbformat_minor": 2
}
